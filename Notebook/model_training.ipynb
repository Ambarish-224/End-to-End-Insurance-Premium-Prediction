{
 "cells": [
  {
   "cell_type": "markdown",
   "metadata": {},
   "source": [
    "## Training Model on Insurance Dataset"
   ]
  },
  {
   "cell_type": "code",
   "execution_count": null,
   "metadata": {},
   "outputs": [],
   "source": [
    "from premium.entity.model_factory import ModelFactory, get_sample_model_config_yaml_file"
   ]
  },
  {
   "cell_type": "code",
   "execution_count": null,
   "metadata": {},
   "outputs": [],
   "source": [
    "import os\n",
    "os.getcwd()"
   ]
  },
  {
   "cell_type": "code",
   "execution_count": 3,
   "metadata": {},
   "outputs": [
    {
     "data": {
      "text/plain": [
       "'config\\\\model.yaml'"
      ]
     },
     "execution_count": 3,
     "metadata": {},
     "output_type": "execute_result"
    }
   ],
   "source": [
    "get_sample_model_config_yaml_file(export_dir='config')"
   ]
  },
  {
   "cell_type": "code",
   "execution_count": 4,
   "metadata": {},
   "outputs": [],
   "source": [
    "from sklearn.linear_model import LinearRegression\n",
    "from sklearn.ensemble import RandomForestRegressor\n",
    "from sklearn.tree import DecisionTreeRegressor"
   ]
  },
  {
   "cell_type": "code",
   "execution_count": 5,
   "metadata": {},
   "outputs": [],
   "source": [
    "model_config_file = r\"C:\\Users\\harsh\\Insurance-Premium-Prediction\\config\\model.yaml\""
   ]
  },
  {
   "cell_type": "code",
   "execution_count": 6,
   "metadata": {},
   "outputs": [
    {
     "data": {
      "text/plain": [
       "<premium.entity.model_factory.ModelFactory at 0x25118219ac8>"
      ]
     },
     "execution_count": 6,
     "metadata": {},
     "output_type": "execute_result"
    }
   ],
   "source": [
    "model_factory = ModelFactory(model_config_path=model_config_file)\n",
    "model_factory"
   ]
  },
  {
   "cell_type": "code",
   "execution_count": 7,
   "metadata": {},
   "outputs": [
    {
     "name": "stdout",
     "output_type": "stream",
     "text": [
      "{'fit_intercept': True}\n",
      "{'min_samples_leaf': 3}\n",
      "{'criterion': ['squared_error'], 'max_features': ['None']}\n"
     ]
    }
   ],
   "source": [
    "model_list = model_factory.get_initialized_model_list()\n"
   ]
  },
  {
   "cell_type": "code",
   "execution_count": 8,
   "metadata": {},
   "outputs": [
    {
     "data": {
      "text/plain": [
       "3"
      ]
     },
     "execution_count": 8,
     "metadata": {},
     "output_type": "execute_result"
    }
   ],
   "source": [
    "len(model_list)\n"
   ]
  },
  {
   "cell_type": "code",
   "execution_count": 9,
   "metadata": {},
   "outputs": [
    {
     "data": {
      "text/plain": [
       "[InitializedModelDetail(model_serial_number='module_0', model=LinearRegression(), param_grid_search={'fit_intercept': [True, False]}, model_name='sklearn.linear_model.LinearRegression'),\n",
       " InitializedModelDetail(model_serial_number='module_1', model=RandomForestRegressor(min_samples_leaf=3), param_grid_search={'min_samples_leaf': [6]}, model_name='sklearn.ensemble.RandomForestRegressor'),\n",
       " InitializedModelDetail(model_serial_number='module_2', model=DecisionTreeRegressor(criterion=['squared_error'], max_features=['None']), param_grid_search={'criterion': ['squared_error', 'friedman_mse', 'absolute_error', 'poisson'], 'max_features': ['auto', 'sqrt', 'log2']}, model_name='sklearn.tree.DecisionTreeRegressor')]"
      ]
     },
     "execution_count": 9,
     "metadata": {},
     "output_type": "execute_result"
    }
   ],
   "source": [
    "model_list"
   ]
  },
  {
   "cell_type": "code",
   "execution_count": 10,
   "metadata": {},
   "outputs": [],
   "source": [
    "from premium.util.util import load_numpy_array_data\n"
   ]
  },
  {
   "cell_type": "code",
   "execution_count": 11,
   "metadata": {},
   "outputs": [],
   "source": [
    "data_file_path = r\"C:\\Users\\harsh\\Insurance-Premium-Prediction\\premium\\artifact\\data_transformation\\2022-07-23-15-00-51\\transformed_data\\train\\insurance.npz\""
   ]
  },
  {
   "cell_type": "code",
   "execution_count": 12,
   "metadata": {},
   "outputs": [],
   "source": [
    "data = load_numpy_array_data(data_file_path)\n",
    "\n"
   ]
  },
  {
   "cell_type": "code",
   "execution_count": 13,
   "metadata": {},
   "outputs": [],
   "source": [
    "x,y = data[:,:-1],data[:,-1]\n",
    "\n"
   ]
  },
  {
   "cell_type": "code",
   "execution_count": 14,
   "metadata": {},
   "outputs": [
    {
     "name": "stdout",
     "output_type": "stream",
     "text": [
      "{'fit_intercept': True}\n",
      "{'min_samples_leaf': 3}\n",
      "{'criterion': ['squared_error'], 'max_features': ['None']}\n",
      "{'cv': 5, 'verbose': 2}\n",
      "Fitting 5 folds for each of 2 candidates, totalling 10 fits\n",
      "[CV] END .................................fit_intercept=True; total time=   0.0s\n",
      "[CV] END .................................fit_intercept=True; total time=   0.0s\n",
      "[CV] END .................................fit_intercept=True; total time=   0.0s\n",
      "[CV] END .................................fit_intercept=True; total time=   0.0s\n",
      "[CV] END .................................fit_intercept=True; total time=   0.0s\n",
      "[CV] END ................................fit_intercept=False; total time=   0.0s\n",
      "[CV] END ................................fit_intercept=False; total time=   0.0s\n",
      "[CV] END ................................fit_intercept=False; total time=   0.0s\n",
      "[CV] END ................................fit_intercept=False; total time=   0.0s\n",
      "[CV] END ................................fit_intercept=False; total time=   0.0s\n",
      "{'cv': 5, 'verbose': 2}\n",
      "Fitting 5 folds for each of 1 candidates, totalling 5 fits\n",
      "[CV] END .................................min_samples_leaf=6; total time=   0.3s\n",
      "[CV] END .................................min_samples_leaf=6; total time=   0.2s\n",
      "[CV] END .................................min_samples_leaf=6; total time=   0.2s\n",
      "[CV] END .................................min_samples_leaf=6; total time=   0.3s\n",
      "[CV] END .................................min_samples_leaf=6; total time=   0.2s\n",
      "{'cv': 5, 'verbose': 2}\n",
      "Fitting 5 folds for each of 12 candidates, totalling 60 fits\n",
      "[CV] END .........criterion=squared_error, max_features=auto; total time=   0.0s\n",
      "[CV] END .........criterion=squared_error, max_features=auto; total time=   0.0s\n",
      "[CV] END .........criterion=squared_error, max_features=auto; total time=   0.0s\n",
      "[CV] END .........criterion=squared_error, max_features=auto; total time=   0.0s\n",
      "[CV] END .........criterion=squared_error, max_features=auto; total time=   0.0s\n",
      "[CV] END .........criterion=squared_error, max_features=sqrt; total time=   0.0s\n",
      "[CV] END .........criterion=squared_error, max_features=sqrt; total time=   0.0s\n",
      "[CV] END .........criterion=squared_error, max_features=sqrt; total time=   0.0s\n",
      "[CV] END .........criterion=squared_error, max_features=sqrt; total time=   0.0s\n",
      "[CV] END .........criterion=squared_error, max_features=sqrt; total time=   0.0s\n",
      "[CV] END .........criterion=squared_error, max_features=log2; total time=   0.0s\n",
      "[CV] END .........criterion=squared_error, max_features=log2; total time=   0.0s\n",
      "[CV] END .........criterion=squared_error, max_features=log2; total time=   0.0s\n",
      "[CV] END .........criterion=squared_error, max_features=log2; total time=   0.0s\n",
      "[CV] END .........criterion=squared_error, max_features=log2; total time=   0.0s\n",
      "[CV] END ..........criterion=friedman_mse, max_features=auto; total time=   0.0s\n",
      "[CV] END ..........criterion=friedman_mse, max_features=auto; total time=   0.0s\n",
      "[CV] END ..........criterion=friedman_mse, max_features=auto; total time=   0.0s\n",
      "[CV] END ..........criterion=friedman_mse, max_features=auto; total time=   0.0s\n",
      "[CV] END ..........criterion=friedman_mse, max_features=auto; total time=   0.0s\n",
      "[CV] END ..........criterion=friedman_mse, max_features=sqrt; total time=   0.0s\n",
      "[CV] END ..........criterion=friedman_mse, max_features=sqrt; total time=   0.0s\n",
      "[CV] END ..........criterion=friedman_mse, max_features=sqrt; total time=   0.0s\n",
      "[CV] END ..........criterion=friedman_mse, max_features=sqrt; total time=   0.0s\n",
      "[CV] END ..........criterion=friedman_mse, max_features=sqrt; total time=   0.0s\n",
      "[CV] END ..........criterion=friedman_mse, max_features=log2; total time=   0.0s\n",
      "[CV] END ..........criterion=friedman_mse, max_features=log2; total time=   0.0s\n",
      "[CV] END ..........criterion=friedman_mse, max_features=log2; total time=   0.0s\n",
      "[CV] END ..........criterion=friedman_mse, max_features=log2; total time=   0.0s\n",
      "[CV] END ..........criterion=friedman_mse, max_features=log2; total time=   0.0s\n",
      "[CV] END ........criterion=absolute_error, max_features=auto; total time=   0.0s\n",
      "[CV] END ........criterion=absolute_error, max_features=auto; total time=   0.0s\n",
      "[CV] END ........criterion=absolute_error, max_features=auto; total time=   0.0s\n",
      "[CV] END ........criterion=absolute_error, max_features=auto; total time=   0.0s\n",
      "[CV] END ........criterion=absolute_error, max_features=auto; total time=   0.0s\n",
      "[CV] END ........criterion=absolute_error, max_features=sqrt; total time=   0.0s\n",
      "[CV] END ........criterion=absolute_error, max_features=sqrt; total time=   0.0s\n",
      "[CV] END ........criterion=absolute_error, max_features=sqrt; total time=   0.0s\n",
      "[CV] END ........criterion=absolute_error, max_features=sqrt; total time=   0.0s\n",
      "[CV] END ........criterion=absolute_error, max_features=sqrt; total time=   0.0s\n",
      "[CV] END ........criterion=absolute_error, max_features=log2; total time=   0.0s\n",
      "[CV] END ........criterion=absolute_error, max_features=log2; total time=   0.0s\n",
      "[CV] END ........criterion=absolute_error, max_features=log2; total time=   0.0s\n",
      "[CV] END ........criterion=absolute_error, max_features=log2; total time=   0.0s\n",
      "[CV] END ........criterion=absolute_error, max_features=log2; total time=   0.0s\n",
      "[CV] END ...............criterion=poisson, max_features=auto; total time=   0.0s\n",
      "[CV] END ...............criterion=poisson, max_features=auto; total time=   0.0s\n",
      "[CV] END ...............criterion=poisson, max_features=auto; total time=   0.0s\n",
      "[CV] END ...............criterion=poisson, max_features=auto; total time=   0.0s\n",
      "[CV] END ...............criterion=poisson, max_features=auto; total time=   0.0s\n",
      "[CV] END ...............criterion=poisson, max_features=sqrt; total time=   0.0s\n",
      "[CV] END ...............criterion=poisson, max_features=sqrt; total time=   0.0s\n",
      "[CV] END ...............criterion=poisson, max_features=sqrt; total time=   0.0s\n",
      "[CV] END ...............criterion=poisson, max_features=sqrt; total time=   0.0s\n",
      "[CV] END ...............criterion=poisson, max_features=sqrt; total time=   0.0s\n",
      "[CV] END ...............criterion=poisson, max_features=log2; total time=   0.0s\n",
      "[CV] END ...............criterion=poisson, max_features=log2; total time=   0.0s\n",
      "[CV] END ...............criterion=poisson, max_features=log2; total time=   0.0s\n",
      "[CV] END ...............criterion=poisson, max_features=log2; total time=   0.0s\n",
      "[CV] END ...............criterion=poisson, max_features=log2; total time=   0.0s\n"
     ]
    }
   ],
   "source": [
    "best_model = model_factory.get_best_model(x,y)\n"
   ]
  },
  {
   "cell_type": "code",
   "execution_count": 15,
   "metadata": {},
   "outputs": [
    {
     "data": {
      "text/plain": [
       "RandomForestRegressor(min_samples_leaf=6)"
      ]
     },
     "execution_count": 15,
     "metadata": {},
     "output_type": "execute_result"
    }
   ],
   "source": [
    "best_model.best_model\n"
   ]
  },
  {
   "cell_type": "code",
   "execution_count": 16,
   "metadata": {},
   "outputs": [
    {
     "data": {
      "text/plain": [
       "0.8540545130575424"
      ]
     },
     "execution_count": 16,
     "metadata": {},
     "output_type": "execute_result"
    }
   ],
   "source": [
    "best_model.best_score"
   ]
  },
  {
   "cell_type": "code",
   "execution_count": 17,
   "metadata": {},
   "outputs": [
    {
     "data": {
      "text/plain": [
       "[GridSearchedBestModel(model_serial_number='module_0', model=LinearRegression(), best_model=LinearRegression(), best_parameters={'fit_intercept': True}, best_score=0.746163977339871),\n",
       " GridSearchedBestModel(model_serial_number='module_1', model=RandomForestRegressor(min_samples_leaf=3), best_model=RandomForestRegressor(min_samples_leaf=6), best_parameters={'min_samples_leaf': 6}, best_score=0.8540545130575424),\n",
       " GridSearchedBestModel(model_serial_number='module_2', model=DecisionTreeRegressor(criterion=['squared_error'], max_features=['None']), best_model=DecisionTreeRegressor(criterion='friedman_mse', max_features='log2'), best_parameters={'criterion': 'friedman_mse', 'max_features': 'log2'}, best_score=0.702608613615701)]"
      ]
     },
     "execution_count": 17,
     "metadata": {},
     "output_type": "execute_result"
    }
   ],
   "source": [
    "model_factory.grid_searched_best_model_list"
   ]
  },
  {
   "cell_type": "code",
   "execution_count": 18,
   "metadata": {},
   "outputs": [
    {
     "data": {
      "text/plain": [
       "[InitializedModelDetail(model_serial_number='module_0', model=LinearRegression(), param_grid_search={'fit_intercept': [True, False]}, model_name='sklearn.linear_model.LinearRegression'),\n",
       " InitializedModelDetail(model_serial_number='module_1', model=RandomForestRegressor(min_samples_leaf=3), param_grid_search={'min_samples_leaf': [6]}, model_name='sklearn.ensemble.RandomForestRegressor'),\n",
       " InitializedModelDetail(model_serial_number='module_2', model=DecisionTreeRegressor(criterion=['squared_error'], max_features=['None']), param_grid_search={'criterion': ['squared_error', 'friedman_mse', 'absolute_error', 'poisson'], 'max_features': ['auto', 'sqrt', 'log2']}, model_name='sklearn.tree.DecisionTreeRegressor')]"
      ]
     },
     "execution_count": 18,
     "metadata": {},
     "output_type": "execute_result"
    }
   ],
   "source": [
    "model_factory.initialized_model_list\n"
   ]
  },
  {
   "cell_type": "code",
   "execution_count": null,
   "metadata": {},
   "outputs": [],
   "source": []
  }
 ],
 "metadata": {
  "kernelspec": {
   "display_name": "Python 3 (ipykernel)",
   "language": "python",
   "name": "python3"
  },
  "language_info": {
   "codemirror_mode": {
    "name": "ipython",
    "version": 3
   },
   "file_extension": ".py",
   "mimetype": "text/x-python",
   "name": "python",
   "nbconvert_exporter": "python",
   "pygments_lexer": "ipython3",
   "version": "3.9.7"
  },
  "vscode": {
   "interpreter": {
    "hash": "679af03a05147b13862a50b4c7f8c83ea2d9d219da338a19e0cab5167909dd7c"
   }
  }
 },
 "nbformat": 4,
 "nbformat_minor": 2
}
